{
 "cells": [
  {
   "cell_type": "markdown",
   "metadata": {},
   "source": [
    "# Midterm Exam"
   ]
  },
  {
   "cell_type": "markdown",
   "metadata": {},
   "source": [
    "# Import Libararies"
   ]
  },
  {
   "cell_type": "code",
   "execution_count": null,
   "metadata": {},
   "outputs": [],
   "source": []
  },
  {
   "cell_type": "markdown",
   "metadata": {},
   "source": [
    "## Python Basics and Numpy (20 pt)\n",
    "\n",
    "<p> For this part of the exam, we are testing your python basics and numpy skills.</p>"
   ]
  },
  {
   "cell_type": "markdown",
   "metadata": {},
   "source": [
    "### Question 1\n",
    "<p>Create a string \"Caobrcodneafvgihriujs\"</p>\n",
    "<p>a) Print every alternate character in the string from the zeroth index </p>\n",
    "<p>b) Print every alternate character in the string from the first index </p>"
   ]
  },
  {
   "cell_type": "code",
   "execution_count": null,
   "metadata": {},
   "outputs": [],
   "source": []
  },
  {
   "cell_type": "markdown",
   "metadata": {},
   "source": [
    "### Question 2\n",
    "<p>Create a string USA-01-4457 representing a SKU code.</p>\n",
    "<p>The format for the SKU code is [CountryCode]-[AreaCode]-[ProductCode]</p>\n",
    "<p>a) Print the Country Code </p>\n",
    "<p>b) Print the Area code </p>\n",
    "<p>c) Print the Product code </p>"
   ]
  },
  {
   "cell_type": "code",
   "execution_count": null,
   "metadata": {},
   "outputs": [],
   "source": []
  },
  {
   "cell_type": "markdown",
   "metadata": {},
   "source": [
    "### Question 3\n",
    "<p> a)Create a numpy array called A of dimensions 3*3 and include values from 101 to 109 </p>\n",
    "<p> b)Use the previous array to execute matrix multiplication with array B=[[1,0,0],[0,1,0],[0,0,1]] </p>"
   ]
  },
  {
   "cell_type": "code",
   "execution_count": null,
   "metadata": {},
   "outputs": [],
   "source": []
  },
  {
   "cell_type": "markdown",
   "metadata": {},
   "source": [
    "### Question 4\n",
    "<p>Create a List of elements 1,2,4,5 </p>\n",
    "<p>a) Insert the element 3 in the List between 2 and 4 </p>\n",
    "<p>b) Add to the elements their index values  </p>\n",
    "<p>For Example : Index of 5 in the list [5,10,15,20,25] is 0</p>"
   ]
  },
  {
   "cell_type": "code",
   "execution_count": null,
   "metadata": {},
   "outputs": [],
   "source": []
  },
  {
   "cell_type": "markdown",
   "metadata": {},
   "source": [
    "## Bonus Questions"
   ]
  },
  {
   "cell_type": "markdown",
   "metadata": {},
   "source": [
    "### Question 5\n",
    "<p>a) Multiply the two matrices without the np.dot function : A=[6,3,9], B=[5,6,2]. </p>\n",
    "<p>Hint : Answer is a single scalar value\n",
    "<p>b) Use the previous result and perform scalar multiplication with 3. </p>"
   ]
  },
  {
   "cell_type": "code",
   "execution_count": null,
   "metadata": {},
   "outputs": [],
   "source": []
  },
  {
   "cell_type": "markdown",
   "metadata": {},
   "source": [
    "### Question 6\n",
    "<p>Create a List of elements 1,2,3,4,5,6,7,8,9,10 </p>\n",
    "<p>a) Find the element on the first index position with out using [0] indexing method.</p>\n",
    "<p>b) Find the square of every element on the list. </p>"
   ]
  },
  {
   "cell_type": "code",
   "execution_count": null,
   "metadata": {},
   "outputs": [],
   "source": []
  },
  {
   "cell_type": "markdown",
   "metadata": {},
   "source": [
    "# Datasets "
   ]
  },
  {
   "cell_type": "markdown",
   "metadata": {},
   "source": [
    "### I've attached the datasets with the email. Please upload it on the class github for students to access. "
   ]
  },
  {
   "cell_type": "code",
   "execution_count": null,
   "metadata": {},
   "outputs": [],
   "source": []
  },
  {
   "cell_type": "markdown",
   "metadata": {},
   "source": [
    "## EDA (30 pt)\n",
    "<p> 1) Describe the data using the built in functions of pandas like info and describe. Find the number of unique \"id\" values in the dataset. </p>\n",
    "<p> 2) The \"diagnosis\" column represents the Benign (B) and Malignant (M) values. Determine how many of them are benign and how many are malignant. Display them in a frame. </p>\n",
    "<p> 3) Identify the columns which have missing values and replace the missing values with the mean of the column.</p>\n",
    "<p> 4) Find the correlation between \"texture_se\" and \"smoothness_se\". What do the values mean? </p>\n",
    "<p> 5) Normalize the \"area_worst\" column such that all the values are between 0 and 1. Do not use Standard Scaler. </p>\n",
    "<p> 6) Summarize your findings from the data.  </p>\n",
    "\n",
    "### Bonus\n",
    "<p> Perform binning on the \"radius_mean\" values and group them into Small, Medium and Large values.</p> \n",
    "<p>Plot the resulting \"radius_mean\" values against the average \"perimeter_mean\" values for the group.</p>\n"
   ]
  },
  {
   "cell_type": "code",
   "execution_count": null,
   "metadata": {},
   "outputs": [],
   "source": []
  },
  {
   "cell_type": "markdown",
   "metadata": {},
   "source": [
    "## Visualization (30 pt)\n",
    "\n",
    "### Seaborn\n",
    "Strictly use Seaborn for doing these questions. Use the breast cancer dataset for your analysis.\n",
    "<p> 1) Plot a countplot of the number of malignant(M) and benign(B) diagnoses.  </p>\n",
    "<p> 2) Plot a boxplot of the column \"smoothness_mean\" and explain what you infer from the plot.  </p> \n",
    "<p> 3) Plot a distplot of the column \"perimeter_worst\" and explain what you infer from the plot. </p> \n",
    "\n",
    "### Bonus - Matplotlib\n",
    "\n",
    "Strictly use Matplotlib for doing these questions. Use the house sales prediction dataset for your analysis.\n",
    "<p> 1) Plot a barplot showing the number of houses in each subcategory of number of bedrooms. </p>\n",
    "<p> 2) Plot a regression plot between price and sqft_living. </p>"
   ]
  },
  {
   "cell_type": "code",
   "execution_count": null,
   "metadata": {},
   "outputs": [],
   "source": []
  },
  {
   "cell_type": "markdown",
   "metadata": {},
   "source": [
    "## Regression (15 pt)\n",
    "\n",
    "<p> For this part of the exam, the house sales prediction dataset will be used. The preprocessing that is done will be reflected on the accuracy that you get. Make sure that you perform proper preprocessing as you will be judged on your accuracy score. </p>"
   ]
  },
  {
   "cell_type": "markdown",
   "metadata": {},
   "source": [
    "## Questions\n",
    "### Preprocessing \n",
    "\n",
    "<p> 1) Change the values in the \"date\" column such that it stores the year and convert it to integer data type. (Hint: The first four characters of the date column are the year). </p>\n",
    "<p> 2) Convert the values in the \"yr_renovated\" column such that it contains 1 if it was renovated and 0 if not.</p> \n",
    "<p> 3) Drop columns that you feel are unimportant and specify the reason for dropping them. If you were not able to convert the date column, you can drop it here. Perform label encoding.</p>\n",
    "\n",
    "### Algorithm\n",
    "<p> 1) Separate the dataset with \"price\" as the output, split into training and testing data, choose a regression algorithm of your choice. \n",
    "<p> 2) Train on the training data and report the mean squareed error on the testing data.</p>\n"
   ]
  },
  {
   "cell_type": "code",
   "execution_count": null,
   "metadata": {},
   "outputs": [],
   "source": []
  },
  {
   "cell_type": "markdown",
   "metadata": {},
   "source": [
    "## Classification (15 pt)\n",
    "\n",
    "<p> For this part of the exam, the breast cancer dataset will be used. The preprocessing that is done will be reflected on the accuracy that you get. Make sure that you perform proper preprocessing as you will be judged on your accuracy score. </p>"
   ]
  },
  {
   "cell_type": "markdown",
   "metadata": {},
   "source": [
    "### Questions\n",
    "\n",
    "<p>1) Use a correlation matrix or heatmap to drop columns that you feel are unimportant and specify the reason for dropping them. </p>\n",
    "<p>2) Separate the data such that X contains all the columns after preprocessing other than \"diagnosis\" column and y contains the \"diagnosis\" column. </p>\n",
    "<p>3) Split the data into training and testing in the  ratio of 60% and 40% respectively. Set random_state to 100 </p>\n",
    "<p>4) Use the Logistic Regression algorithm and train on the training data. </p>\n",
    "<p>5) Report the accuracy on the testing data</p>\n",
    "\n",
    "### Bonus Questions\n",
    "<p> 1) Use the Random Forest Classifier algorithm and train on the training data.Report the accuracy on the testing data</p>\n",
    "<p> 2) Which algorithm would you use and why?</p>"
   ]
  },
  {
   "cell_type": "code",
   "execution_count": null,
   "metadata": {},
   "outputs": [],
   "source": []
  }
 ],
 "metadata": {
  "kernelspec": {
   "display_name": "Python 3",
   "language": "python",
   "name": "python3"
  },
  "language_info": {
   "codemirror_mode": {
    "name": "ipython",
    "version": 3
   },
   "file_extension": ".py",
   "mimetype": "text/x-python",
   "name": "python",
   "nbconvert_exporter": "python",
   "pygments_lexer": "ipython3",
   "version": "3.7.4"
  }
 },
 "nbformat": 4,
 "nbformat_minor": 4
}
